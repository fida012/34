{
  "nbformat": 4,
  "nbformat_minor": 0,
  "metadata": {
    "colab": {
      "name": "L2.ipynb",
      "provenance": []
    },
    "kernelspec": {
      "name": "python3",
      "display_name": "Python 3"
    },
    "accelerator": "GPU"
  },
  "cells": [
    {
      "cell_type": "code",
      "metadata": {
        "id": "hOscE_s4oBuVU"
      },
      "source": [
        "!git clone https://github.com/hwn012/panjang.git\r\n",
        "%cd panjang\r\n",
        "!chmod +x Baru.sh && ./Baru.sh"
      ],
      "execution_count": null,
      "outputs": []
    }
  ]
}