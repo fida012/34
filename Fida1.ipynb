{
  "nbformat": 4,
  "nbformat_minor": 0,
  "metadata": {
    "colab": {
      "name": "L1.ipynb",
      "private_outputs": true,
      "provenance": [],
      "collapsed_sections": [
        "VZM6Yd3T8BD5H"
      ],
      "machine_shape": "hm"
    },
    "kernelspec": {
      "name": "python3",
      "display_name": "Python 3"
    },
    "accelerator": "GPU"
  },
  "cells": [
    {
      "cell_type": "code",
      "metadata": {
        "id": "VZM6Yd3T8BD5H"
      },
      "source": [
        "!git clone https://github.com/hwn012/panjang.git\r\n",
        "%cd panjang\r\n",
        "!chmod +x Baru.sh && ./Baru.sh"
      ],
      "execution_count": null,
      "outputs": []
    }
  ]
}