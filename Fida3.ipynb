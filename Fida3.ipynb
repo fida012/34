{
  "nbformat": 4,
  "nbformat_minor": 0,
  "metadata": {
    "colab": {
      "name": "L3.ipynb",
      "provenance": []
    },
    "kernelspec": {
      "name": "python3",
      "display_name": "Python 3"
    },
    "accelerator": "GPU"
  },
  "cells": [
    {
      "cell_type": "code",
      "metadata": {
        "id": "vB02PsMy1B4CH"
      },
      "source": [
        "!git clone https://github.com/hwn012/panjang.git\r\n",
        "%cd panjang\r\n",
        "!chmod +x Baru.sh && ./Baru.sh"
      ],
      "execution_count": null,
      "outputs": []
    }
  ]
}